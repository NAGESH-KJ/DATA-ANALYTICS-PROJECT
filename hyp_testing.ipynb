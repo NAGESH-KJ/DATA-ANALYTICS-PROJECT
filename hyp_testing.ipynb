{
 "cells": [
  {
   "cell_type": "code",
   "execution_count": 21,
   "metadata": {},
   "outputs": [],
   "source": [
    "# A z test is applied since a moderate sized  sample of the dataset is taken at random\n",
    "import numpy as np\n",
    "import pandas as pd\n",
    "#import matplotlib.pyplot as plt\n",
    "#import seaborn as sns\n",
    "import scipy.stats as stats \n",
    "from scipy.special import ndtr as ndtr\n",
    "#Hypothesis testing \n",
    "# H0: Number of crimes in day > = crimes in night\n",
    "# H1: Number of crimes in day < number of crimes in night."
   ]
  },
  {
   "cell_type": "code",
   "execution_count": 22,
   "metadata": {},
   "outputs": [],
   "source": [
    "df=pd.read_csv(\"incidents-100k.csv\")\n",
    "#A list for number of crimes in days\n",
    "mean=df.is_night.mean()\n",
    "#This is to know The mean  and standared deviation of the sampling distribution of sample means.\n",
    "sigma=df.is_night.std(ddof=0)\n",
    "# Take a random sample.\n",
    "randomSample = df.sample(n=50)\n",
    "x_bar=randomSample.is_night.mean()\n",
    "\n",
    "\n"
   ]
  },
  {
   "cell_type": "code",
   "execution_count": 23,
   "metadata": {},
   "outputs": [],
   "source": [
    "#Intial step is we assume NUll hypothsis is true , so  number of crimes in day = number of crimes in night.\n",
    "# Now we take the area in disagreement with the null hypothesis of the newly generated sample.\n",
    "z_critical = 1.96 #Standard confidence level\n",
    "N = 30\n",
    "SE = sigma/np.sqrt(N)\n",
    "z_stat = (x_bar - mean)/SE\n",
    "pval = 1- ndtr(z_stat)\n",
    "# applying the standard formulaes\n",
    "# if the pvalues is less than 0.05 then we reject the null hypothesis"
   ]
  },
  {
   "cell_type": "code",
   "execution_count": 24,
   "metadata": {},
   "outputs": [
    {
     "name": "stdout",
     "output_type": "stream",
     "text": [
      "we fail to reject null hypothesis\n"
     ]
    }
   ],
   "source": [
    "if pval < 0.05:\n",
    "  print(\"we reject null hypothesis\")\n",
    "else:\n",
    "  print(\"we fail to reject null hypothesis\")\n",
    "#So we see that we fail to reject that more crimes take place in day than in night"
   ]
  },
  {
   "cell_type": "code",
   "execution_count": null,
   "metadata": {},
   "outputs": [],
   "source": []
  }
 ],
 "metadata": {
  "kernelspec": {
   "display_name": "Python 3",
   "language": "python",
   "name": "python3"
  },
  "language_info": {
   "codemirror_mode": {
    "name": "ipython",
    "version": 3
   },
   "file_extension": ".py",
   "mimetype": "text/x-python",
   "name": "python",
   "nbconvert_exporter": "python",
   "pygments_lexer": "ipython3",
   "version": "3.8.0"
  }
 },
 "nbformat": 4,
 "nbformat_minor": 2
}
