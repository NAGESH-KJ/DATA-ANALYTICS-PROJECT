{
 "cells": [
  {
   "cell_type": "code",
   "execution_count": 8,
   "metadata": {},
   "outputs": [
    {
     "name": "stdout",
     "output_type": "stream",
     "text": [
      "30\n",
      "30\n",
      "we fail to reject null hypothesis\n"
     ]
    }
   ],
   "source": [
    "import pandas as pd\n",
    "import numpy as np\n",
    "from scipy.stats import ttest_ind\n",
    "#Hypothesis testing \n",
    "# H0: Number of crimes in day > = crimes in night\n",
    "# H1: Number of crimes in day < number of crimes in night.\n",
    "df=pd.read_csv(\"incidents-100k.csv\")\n",
    "# taking a random sample of the data\n",
    "randomSample = df.sample(n=60)\n",
    "l=df.is_night.unique()\n",
    "list1=[]\n",
    "# count the number of crimes taking plce during day and night respectively \n",
    "for i in l:\n",
    "    subDf= randomSample.loc[df.is_night==i,]\n",
    "    list1.append(subDf.shape[0])\n",
    "day=list1[0]\n",
    "night=list1[1]\n",
    "print(day)\n",
    "print(night)\n",
    "#finding the p value\n",
    "ttest,pval = ttest_ind(day,night)\n",
    "# if the pvalues is less than 0.05 then we reject the null hypothesis\n",
    "if pval <0.05:\n",
    "  print(\"we reject null hypothesis\")\n",
    "else:\n",
    "  print(\"we fail to reject null hypothesis\")\n",
    "#So we see that we fail to reject that more crimes take place in day than in night"
   ]
  },
  {
   "cell_type": "code",
   "execution_count": null,
   "metadata": {},
   "outputs": [],
   "source": []
  },
  {
   "cell_type": "code",
   "execution_count": null,
   "metadata": {},
   "outputs": [],
   "source": []
  }
 ],
 "metadata": {
  "kernelspec": {
   "display_name": "Python 3",
   "language": "python",
   "name": "python3"
  },
  "language_info": {
   "codemirror_mode": {
    "name": "ipython",
    "version": 3
   },
   "file_extension": ".py",
   "mimetype": "text/x-python",
   "name": "python",
   "nbconvert_exporter": "python",
   "pygments_lexer": "ipython3",
   "version": "3.6.5"
  }
 },
 "nbformat": 4,
 "nbformat_minor": 2
}
