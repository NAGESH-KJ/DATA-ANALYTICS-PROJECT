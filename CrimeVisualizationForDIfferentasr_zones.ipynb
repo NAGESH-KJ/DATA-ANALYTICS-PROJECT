{
 "cells": [
  {
   "cell_type": "code",
   "execution_count": 1,
   "metadata": {},
   "outputs": [
    {
     "ename": "ModuleNotFoundError",
     "evalue": "No module named 'matplotlib'",
     "output_type": "error",
     "traceback": [
      "\u001b[0;31m---------------------------------------------------------------------------\u001b[0m",
      "\u001b[0;31mModuleNotFoundError\u001b[0m                       Traceback (most recent call last)",
      "\u001b[0;32m<ipython-input-1-a18ab92a442b>\u001b[0m in \u001b[0;36m<module>\u001b[0;34m\u001b[0m\n\u001b[1;32m      3\u001b[0m \u001b[0;32mimport\u001b[0m \u001b[0mpandas\u001b[0m \u001b[0;32mas\u001b[0m \u001b[0mpd\u001b[0m\u001b[0;34m\u001b[0m\u001b[0;34m\u001b[0m\u001b[0m\n\u001b[1;32m      4\u001b[0m \u001b[0;31m#Importing pandas\u001b[0m\u001b[0;34m\u001b[0m\u001b[0;34m\u001b[0m\u001b[0;34m\u001b[0m\u001b[0m\n\u001b[0;32m----> 5\u001b[0;31m \u001b[0;32mimport\u001b[0m \u001b[0mmatplotlib\u001b[0m\u001b[0;34m.\u001b[0m\u001b[0mpyplot\u001b[0m \u001b[0;32mas\u001b[0m \u001b[0mplt\u001b[0m\u001b[0;34m\u001b[0m\u001b[0;34m\u001b[0m\u001b[0m\n\u001b[0m\u001b[1;32m      6\u001b[0m \u001b[0;31m#importing mathplot\u001b[0m\u001b[0;34m\u001b[0m\u001b[0;34m\u001b[0m\u001b[0;34m\u001b[0m\u001b[0m\n\u001b[1;32m      7\u001b[0m \u001b[0;32mimport\u001b[0m \u001b[0mnumpy\u001b[0m \u001b[0;32mas\u001b[0m \u001b[0mnp\u001b[0m\u001b[0;34m\u001b[0m\u001b[0;34m\u001b[0m\u001b[0m\n",
      "\u001b[0;31mModuleNotFoundError\u001b[0m: No module named 'matplotlib'"
     ]
    }
   ],
   "source": [
    "#asr_zone represents Accessor's zone code for nearest parcel.\n",
    "# a bar plot to plot number of crimes VS diff asr_zone\n",
    "import pandas as pd\n",
    "#Importing pandas\n",
    "import matplotlib.pyplot as plt\n",
    "#importing mathplot \n",
    "import numpy as np\n",
    "#importing numpy"
   ]
  },
  {
   "cell_type": "code",
   "execution_count": 5,
   "metadata": {},
   "outputs": [],
   "source": [
    "df=pd.read_csv(\"incidents-100k.csv\")\n",
    "#import the dataset that is required\n",
    "l=df.asr_zone.unique()\n",
    "l.sort()\n",
    "#All the unique values of the asr_zone\n",
    "list1=[]\n",
    "# assigning appropriate types to the values of the . azr_zone\n",
    "\n",
    "for j in l:\n",
    "    if(j == -1):\n",
    "        list1.append(\"Unset\")\n",
    "    elif(j==0):\n",
    "        list1.append(\"Unzoned\")\n",
    "    elif(j==1):\n",
    "        list1.append(\"Single Family Resident\")\n",
    "    elif(j==2):\n",
    "        list1.append(\"Minor Multiple\")\n",
    "    elif(j==3):\n",
    "        list1.append(\"Restricted Multiple\")\n",
    "    elif(j==4):\n",
    "        list1.append(\"Multiple Resident\")\n",
    "    elif(j==5):\n",
    "        list1.append(\"Restricted commerical\")\n",
    "    elif(j==6):\n",
    "        list1.append(\"Commericial\")\n",
    "    elif(j==7):\n",
    "        list1.append(\"Industrial\")\n",
    "    elif(j==8):\n",
    "        list1.append(\"Agricultural\")\n",
    "    elif(j==9):\n",
    "        list1.append(\"Special\")"
   ]
  },
  {
   "cell_type": "code",
   "execution_count": 6,
   "metadata": {},
   "outputs": [],
   "source": [
    "def plot_bar_x():\n",
    "    index = np.arange(len(list1))\n",
    "    plt.bar(index,numOfCrimesInLocality)\n",
    "    #giving the xlabel\n",
    "    plt.xlabel('', fontsize=7)\n",
    "    #giving the ylabel\n",
    "    plt.ylabel('No of Crimes', fontsize=7)\n",
    "    plt.xticks(index, list1, fontsize=7, rotation=30)\n",
    "    #title of the bar plot\n",
    "    plt.title('Number of crimes in respective locality')\n",
    "    #plotting the bar plot.\n",
    "    plt.show()"
   ]
  },
  {
   "cell_type": "code",
   "execution_count": 7,
   "metadata": {},
   "outputs": [
    {
     "name": "stdout",
     "output_type": "stream",
     "text": [
      "[3624, 28537, 5793, 7586, 10553, 194, 31518, 9787, 390, 2018]\n"
     ]
    },
    {
     "data": {
      "image/png": "[encoded data removed]",
      "text/plain": [
       "<Figure size 432x288 with 1 Axes>"
      ]
     },
     "metadata": {},
     "output_type": "display_data"
    }
   ],
   "source": [
    "#A list to store number of crimes for repective types\n",
    "numOfCrimesInLocality=[]\n",
    "# to find the number of crimes for each type\n",
    "for i in l:\n",
    "    #finding the subset of the dataset for each asr_zone.\n",
    "    subDf= df.loc[df.asr_zone==i,]\n",
    "    numOfCrimesInLocality.append(subDf.shape[0])\n",
    "#printing the number of crimes for each asr_zone\n",
    "print(numOfCrimesInLocality)\n",
    "#o=plotting the bar graph\n",
    "plot_bar_x()\n",
    "#So we observe that Most crimes occur in Commercial asr_zone."
   ]
  },
  {
   "cell_type": "code",
   "execution_count": 8,
   "metadata": {},
   "outputs": [
    {
     "name": "stdout",
     "output_type": "stream",
     "text": [
      "Type of crime most occurring in commercial zone is  VEHICLE BREAK-IN/THEFT\n",
      "4886\n"
     ]
    }
   ],
   "source": [
    "#Subset of the dataset where crimes were commited in Single Family Resident zone.\n",
    "SingleFamilydf=df.loc[df.asr_zone==1,]\n",
    "#An empty dictionary\n",
    "d={}\n",
    "for i in SingleFamilydf.type:\n",
    "    if(i not in d):\n",
    "        d[i]=1\n",
    "    else:\n",
    "        d[i]=d[i]+1\n",
    "\n",
    "max1=0\n",
    "crime=\"\"\n",
    "for key in d:\n",
    "    if(d[key] >max1):\n",
    "        max1=d[key]\n",
    "        crime=key\n",
    "#the most type of crime that was committed was of the type\n",
    "print(\"Type of crime most occurring in commercial zone is \",crime)\n",
    "print(max1)"
   ]
  },
  {
   "cell_type": "code",
   "execution_count": 9,
   "metadata": {},
   "outputs": [
    {
     "name": "stdout",
     "output_type": "stream",
     "text": [
      "Type of crime most occurring in commercial zone is  DRUGS/ALCOHOL VIOLATIONS\n",
      "9245\n"
     ]
    }
   ],
   "source": [
    "#Subset of the dataset where crimes were commited in Commercial\n",
    "Comdf=df.loc[df.asr_zone==6,]\n",
    "#An empty dictionary\n",
    "d1={}\n",
    "for i in Comdf.type:\n",
    "    if(i not in d1):\n",
    "        d1[i]=1\n",
    "    else:\n",
    "        d1[i]=d1[i]+1\n",
    "\n",
    "max2=0\n",
    "crime1=\"\"\n",
    "for key in d:\n",
    "    if(d1[key] >max2):\n",
    "        max2=d1[key]\n",
    "        crime1=key\n",
    "#the most type of crime that was committed was of the type\n",
    "print(\"Type of crime most occurring in commercial zone is \",crime1)\n",
    "print(max2)\n"
   ]
  },
  {
   "cell_type": "code",
   "execution_count": null,
   "metadata": {},
   "outputs": [],
   "source": []
  }
 ],
 "metadata": {
  "kernelspec": {
   "display_name": "Python 3",
   "language": "python",
   "name": "python3"
  },
  "language_info": {
   "codemirror_mode": {
    "name": "ipython",
    "version": 3
   },
   "file_extension": ".py",
   "mimetype": "text/x-python",
   "name": "python",
   "nbconvert_exporter": "python",
   "pygments_lexer": "ipython3",
   "version": "3.8.0"
  }
 },
 "nbformat": 4,
 "nbformat_minor": 2
}
